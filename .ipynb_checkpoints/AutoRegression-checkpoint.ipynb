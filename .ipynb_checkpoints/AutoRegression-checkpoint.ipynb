{
 "cells": [
  {
   "cell_type": "code",
   "execution_count": 1,
   "metadata": {},
   "outputs": [],
   "source": [
    "import numpy as np\n",
    "import pandas as pd\n",
    "import matplotlib.pyplot as plt\n",
    "import quandl\n",
    "\n",
    "exchange='WIKI'\n",
    "ticker='AMZN'\n",
    "\n",
    "df = quandl.get('%s/%s' % (exchange, ticker),api_key='xCpdYQzqjxgooYJ7zisz')\n",
    "stock=df.copy()\n",
    "data=df.copy()"
   ]
  },
  {
   "cell_type": "code",
   "execution_count": 2,
   "metadata": {},
   "outputs": [
    {
     "data": {
      "text/html": [
       "<div>\n",
       "<style scoped>\n",
       "    .dataframe tbody tr th:only-of-type {\n",
       "        vertical-align: middle;\n",
       "    }\n",
       "\n",
       "    .dataframe tbody tr th {\n",
       "        vertical-align: top;\n",
       "    }\n",
       "\n",
       "    .dataframe thead th {\n",
       "        text-align: right;\n",
       "    }\n",
       "</style>\n",
       "<table border=\"1\" class=\"dataframe\">\n",
       "  <thead>\n",
       "    <tr style=\"text-align: right;\">\n",
       "      <th></th>\n",
       "      <th>Open</th>\n",
       "      <th>High</th>\n",
       "      <th>Low</th>\n",
       "      <th>Close</th>\n",
       "      <th>Volume</th>\n",
       "      <th>Ex-Dividend</th>\n",
       "      <th>Split Ratio</th>\n",
       "      <th>Adj. Open</th>\n",
       "      <th>Adj. High</th>\n",
       "      <th>Adj. Low</th>\n",
       "      <th>Adj. Close</th>\n",
       "      <th>Adj. Volume</th>\n",
       "    </tr>\n",
       "    <tr>\n",
       "      <th>Date</th>\n",
       "      <th></th>\n",
       "      <th></th>\n",
       "      <th></th>\n",
       "      <th></th>\n",
       "      <th></th>\n",
       "      <th></th>\n",
       "      <th></th>\n",
       "      <th></th>\n",
       "      <th></th>\n",
       "      <th></th>\n",
       "      <th></th>\n",
       "      <th></th>\n",
       "    </tr>\n",
       "  </thead>\n",
       "  <tbody>\n",
       "    <tr>\n",
       "      <th>1997-05-16</th>\n",
       "      <td>22.38</td>\n",
       "      <td>23.75</td>\n",
       "      <td>20.50</td>\n",
       "      <td>20.75</td>\n",
       "      <td>1225000.0</td>\n",
       "      <td>0.0</td>\n",
       "      <td>1.0</td>\n",
       "      <td>1.865000</td>\n",
       "      <td>1.979167</td>\n",
       "      <td>1.708333</td>\n",
       "      <td>1.729167</td>\n",
       "      <td>14700000.0</td>\n",
       "    </tr>\n",
       "    <tr>\n",
       "      <th>1997-05-19</th>\n",
       "      <td>20.50</td>\n",
       "      <td>21.25</td>\n",
       "      <td>19.50</td>\n",
       "      <td>20.50</td>\n",
       "      <td>508900.0</td>\n",
       "      <td>0.0</td>\n",
       "      <td>1.0</td>\n",
       "      <td>1.708333</td>\n",
       "      <td>1.770833</td>\n",
       "      <td>1.625000</td>\n",
       "      <td>1.708333</td>\n",
       "      <td>6106800.0</td>\n",
       "    </tr>\n",
       "    <tr>\n",
       "      <th>1997-05-20</th>\n",
       "      <td>20.75</td>\n",
       "      <td>21.00</td>\n",
       "      <td>19.63</td>\n",
       "      <td>19.63</td>\n",
       "      <td>455600.0</td>\n",
       "      <td>0.0</td>\n",
       "      <td>1.0</td>\n",
       "      <td>1.729167</td>\n",
       "      <td>1.750000</td>\n",
       "      <td>1.635833</td>\n",
       "      <td>1.635833</td>\n",
       "      <td>5467200.0</td>\n",
       "    </tr>\n",
       "    <tr>\n",
       "      <th>1997-05-21</th>\n",
       "      <td>19.25</td>\n",
       "      <td>19.75</td>\n",
       "      <td>16.50</td>\n",
       "      <td>17.13</td>\n",
       "      <td>1571100.0</td>\n",
       "      <td>0.0</td>\n",
       "      <td>1.0</td>\n",
       "      <td>1.604167</td>\n",
       "      <td>1.645833</td>\n",
       "      <td>1.375000</td>\n",
       "      <td>1.427500</td>\n",
       "      <td>18853200.0</td>\n",
       "    </tr>\n",
       "    <tr>\n",
       "      <th>1997-05-22</th>\n",
       "      <td>17.25</td>\n",
       "      <td>17.38</td>\n",
       "      <td>15.75</td>\n",
       "      <td>16.75</td>\n",
       "      <td>981400.0</td>\n",
       "      <td>0.0</td>\n",
       "      <td>1.0</td>\n",
       "      <td>1.437500</td>\n",
       "      <td>1.448333</td>\n",
       "      <td>1.312500</td>\n",
       "      <td>1.395833</td>\n",
       "      <td>11776800.0</td>\n",
       "    </tr>\n",
       "  </tbody>\n",
       "</table>\n",
       "</div>"
      ],
      "text/plain": [
       "             Open   High    Low  Close     Volume  Ex-Dividend  Split Ratio  \\\n",
       "Date                                                                          \n",
       "1997-05-16  22.38  23.75  20.50  20.75  1225000.0          0.0          1.0   \n",
       "1997-05-19  20.50  21.25  19.50  20.50   508900.0          0.0          1.0   \n",
       "1997-05-20  20.75  21.00  19.63  19.63   455600.0          0.0          1.0   \n",
       "1997-05-21  19.25  19.75  16.50  17.13  1571100.0          0.0          1.0   \n",
       "1997-05-22  17.25  17.38  15.75  16.75   981400.0          0.0          1.0   \n",
       "\n",
       "            Adj. Open  Adj. High  Adj. Low  Adj. Close  Adj. Volume  \n",
       "Date                                                                 \n",
       "1997-05-16   1.865000   1.979167  1.708333    1.729167   14700000.0  \n",
       "1997-05-19   1.708333   1.770833  1.625000    1.708333    6106800.0  \n",
       "1997-05-20   1.729167   1.750000  1.635833    1.635833    5467200.0  \n",
       "1997-05-21   1.604167   1.645833  1.375000    1.427500   18853200.0  \n",
       "1997-05-22   1.437500   1.448333  1.312500    1.395833   11776800.0  "
      ]
     },
     "execution_count": 2,
     "metadata": {},
     "output_type": "execute_result"
    }
   ],
   "source": [
    "stock.head()"
   ]
  },
  {
   "cell_type": "code",
   "execution_count": 3,
   "metadata": {},
   "outputs": [
    {
     "data": {
      "text/plain": [
       "[<matplotlib.lines.Line2D at 0x7f0ea233b1d0>]"
      ]
     },
     "execution_count": 3,
     "metadata": {},
     "output_type": "execute_result"
    },
    {
     "data": {
      "image/png": "[encoded data removed]",
      "text/plain": [
       "<Figure size 432x288 with 1 Axes>"
      ]
     },
     "metadata": {},
     "output_type": "display_data"
    }
   ],
   "source": [
    "plt.plot(data['Close'])"
   ]
  },
  {
   "cell_type": "code",
   "execution_count": 4,
   "metadata": {},
   "outputs": [
    {
     "name": "stderr",
     "output_type": "stream",
     "text": [
      "/usr/local/lib/python2.7/dist-packages/ipykernel_launcher.py:2: FutureWarning: 'pandas.tools.plotting.autocorrelation_plot' is deprecated, import 'pandas.plotting.autocorrelation_plot' instead.\n",
      "  \n"
     ]
    },
    {
     "data": {
      "image/png": "[encoded data removed]",
      "text/plain": [
       "<Figure size 432x288 with 1 Axes>"
      ]
     },
     "metadata": {},
     "output_type": "display_data"
    }
   ],
   "source": [
    "from pandas.tools.plotting import autocorrelation_plot\n",
    "autocorrelation_plot(data['Close'])\n",
    "plt.show()"
   ]
  },
  {
   "cell_type": "code",
   "execution_count": 7,
   "metadata": {},
   "outputs": [
    {
     "data": {
      "image/png": "[encoded data removed]",
      "text/plain": [
       "<Figure size 432x288 with 1 Axes>"
      ]
     },
     "metadata": {},
     "output_type": "display_data"
    }
   ],
   "source": [
    "from statsmodels.graphics.tsaplots import plot_acf\n",
    "plot_acf(data['Close'], lags=300)\n",
    "plt.show()"
   ]
  },
  {
   "cell_type": "code",
   "execution_count": 8,
   "metadata": {},
   "outputs": [
    {
     "name": "stderr",
     "output_type": "stream",
     "text": [
      "/usr/local/lib/python2.7/dist-packages/ipykernel_launcher.py:5: FutureWarning: \n",
      ".resample() is now a deferred operation\n",
      "You called reset_index(...) on this deferred object which materialized it into a series\n",
      "by implicitly taking the mean.  Use .resample(...).mean() instead\n",
      "  \"\"\"\n",
      "/usr/local/lib/python2.7/dist-packages/ipykernel_launcher.py:10: FutureWarning: \n",
      ".resample() is now a deferred operation\n",
      "You called reset_index(...) on this deferred object which materialized it into a series\n",
      "by implicitly taking the mean.  Use .resample(...).mean() instead\n",
      "  # Remove the CWD from sys.path while we load stuff.\n"
     ]
    },
    {
     "name": "stdout",
     "output_type": "stream",
     "text": [
      "Test MSE: 192.720\n"
     ]
    },
    {
     "data": {
      "image/png": "[encoded data removed]",
      "text/plain": [
       "<Figure size 432x288 with 1 Axes>"
      ]
     },
     "metadata": {},
     "output_type": "display_data"
    }
   ],
   "source": [
    "from statsmodels.tsa.ar_model import AR\n",
    "from sklearn.metrics import mean_squared_error\n",
    "def autoregression(train,test):\n",
    "    train = train.resample('D')\n",
    "    train = train.reset_index(level=0)\n",
    "    train = train.interpolate()\n",
    "    train.index=train['Date']\n",
    "    train1=train['Adj. Close']\n",
    "    test1= test.resample('D')\n",
    "    test1 = test1.reset_index(level=0)\n",
    "    test1 = test1.interpolate()\n",
    "    test1.index=test1['Date']\n",
    "    test=test1['Adj. Close']\n",
    "    #print train1\n",
    "    model = AR(train1)\n",
    "    model_fit = model.fit()\n",
    "    window = model_fit.k_ar\n",
    "    coef = model_fit.params\n",
    "    # walk forward over time steps in test\n",
    "    history = train1[len(train1)-window:]\n",
    "    history = [history[i] for i in range(len(history))]\n",
    "    predictions = list()\n",
    "    for t in range(len(test)):\n",
    "        length = len(history)\n",
    "        lag = [history[i] for i in range(length-window,length)]\n",
    "        yhat = coef[0]\n",
    "        for d in range(window):\n",
    "            yhat += coef[d+1] * lag[window-d-1]\n",
    "        obs = test[t]\n",
    "        predictions.append(yhat)\n",
    "        history.append(obs)\n",
    "        #print('predicted=%f, expected=%f' % (yhat, obs))\n",
    "    error = mean_squared_error(test, predictions)\n",
    "    print('Test MSE: %.3f' % error)\n",
    "    predictions=pd.Series(predictions,index=test.index)\n",
    "    # plot\n",
    "    plt.plot(test)\n",
    "    plt.plot(predictions, color='red')\n",
    "    plt.show()\n",
    "    return predictions\n",
    "\n",
    "max_date=max(data.index)\n",
    "end_date=max_date-pd.DateOffset(years=1)\n",
    "start_date=end_date-pd.DateOffset(years=4)\n",
    "train=data[(data.index>start_date)&(data.index<=end_date)]['Adj. Close']\n",
    "test=data[(data.index>end_date)]['Adj. Close']\n",
    "\n",
    "pred_auto1=autoregression(train,test)\n",
    "#print pred_auto1\n",
    "#print end_date"
   ]
  },
  {
   "cell_type": "code",
   "execution_count": null,
   "metadata": {},
   "outputs": [],
   "source": []
  },
  {
   "cell_type": "code",
   "execution_count": null,
   "metadata": {},
   "outputs": [],
   "source": []
  }
 ],
 "metadata": {
  "kernelspec": {
   "display_name": "Python 2",
   "language": "python",
   "name": "python2"
  },
  "language_info": {
   "codemirror_mode": {
    "name": "ipython",
    "version": 2
   },
   "file_extension": ".py",
   "mimetype": "text/x-python",
   "name": "python",
   "nbconvert_exporter": "python",
   "pygments_lexer": "ipython2",
   "version": "2.7.12"
  }
 },
 "nbformat": 4,
 "nbformat_minor": 2
}
